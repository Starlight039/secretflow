{
    "cells": [
        {
            "attachments": {},
            "cell_type": "markdown",
            "id": "6d742657-8e6a-439d-a65a-3c76e73c8810",
            "metadata": {},
            "source": [
                "# SS GLM "
            ]
        },
        {
            "attachments": {},
            "cell_type": "markdown",
            "id": "5ddc86c8",
            "metadata": {},
            "source": [
                ">The following codes are demos only. It's **NOT for production** due to system security concerns, please **DO NOT** use it directly in production.\n"
            ]
        },
        {
            "attachments": {},
            "cell_type": "markdown",
            "id": "629aad7f",
            "metadata": {},
            "source": [
                "## Train a model with sklearn "
            ]
        },
        {
            "attachments": {},
            "cell_type": "markdown",
            "id": "d9774618-798e-421f-9be0-4fb954d7c710",
            "metadata": {},
            "source": [
                "Replicate the same experiment from sklearn [tutorial](https://scikit-learn.org/stable/auto_examples/linear_model/plot_tweedie_regression_insurance_claims) on insurance claims using sf ss glm."
            ]
        },
        {
            "cell_type": "code",
            "execution_count": 1,
            "id": "364a380e-9cea-42e3-8ab5-06635df97478",
            "metadata": {
                "tags": []
            },
            "outputs": [],
            "source": [
                "import matplotlib.pyplot as plt\n",
                "import numpy as np\n",
                "import pandas as pd\n",
                "\n",
                "from functools import partial\n",
                "from sklearn.datasets import fetch_openml\n",
                "from sklearn.metrics import (\n",
                "    mean_absolute_error,\n",
                "    mean_squared_error,\n",
                "    mean_tweedie_deviance,\n",
                ")\n",
                "\n",
                "\n",
                "def load_mtpl2(n_samples=None):\n",
                "    \"\"\"Fetch the French Motor Third-Party Liability Claims dataset.\n",
                "\n",
                "    Parameters\n",
                "    ----------\n",
                "    n_samples: int, default=None\n",
                "      number of samples to select (for faster run time). Full dataset has\n",
                "      678013 samples.\n",
                "    \"\"\"\n",
                "    # freMTPL2freq dataset from https://www.openml.org/d/41214\n",
                "    df_freq = fetch_openml(data_id=41214, as_frame=True).data\n",
                "    df_freq[\"IDpol\"] = df_freq[\"IDpol\"].astype(int)\n",
                "    df_freq.set_index(\"IDpol\", inplace=True)\n",
                "\n",
                "    # freMTPL2sev dataset from https://www.openml.org/d/41215\n",
                "    df_sev = fetch_openml(data_id=41215, as_frame=True).data\n",
                "\n",
                "    # sum ClaimAmount over identical IDs\n",
                "    df_sev = df_sev.groupby(\"IDpol\").sum()\n",
                "\n",
                "    df = df_freq.join(df_sev, how=\"left\")\n",
                "    df[\"ClaimAmount\"].fillna(0, inplace=True)\n",
                "\n",
                "    # unquote string fields\n",
                "    for column_name in df.columns[df.dtypes.values == object]:\n",
                "        df[column_name] = df[column_name].str.strip(\"'\")\n",
                "    return df.iloc[:n_samples]\n",
                "\n",
                "\n",
                "def plot_obs_pred(\n",
                "    df,\n",
                "    feature,\n",
                "    weight,\n",
                "    observed,\n",
                "    predicted,\n",
                "    y_label=None,\n",
                "    title=None,\n",
                "    ax=None,\n",
                "    fill_legend=False,\n",
                "):\n",
                "    \"\"\"Plot observed and predicted - aggregated per feature level.\n",
                "\n",
                "    Parameters\n",
                "    ----------\n",
                "    df : DataFrame\n",
                "        input data\n",
                "    feature: str\n",
                "        a column name of df for the feature to be plotted\n",
                "    weight : str\n",
                "        column name of df with the values of weights or exposure\n",
                "    observed : str\n",
                "        a column name of df with the observed target\n",
                "    predicted : DataFrame\n",
                "        a dataframe, with the same index as df, with the predicted target\n",
                "    fill_legend : bool, default=False\n",
                "        whether to show fill_between legend\n",
                "    \"\"\"\n",
                "    # aggregate observed and predicted variables by feature level\n",
                "    df_ = df.loc[:, [feature, weight]].copy()\n",
                "    df_[\"observed\"] = df[observed] * df[weight]\n",
                "    df_[\"predicted\"] = predicted * df[weight]\n",
                "    df_ = (\n",
                "        df_.groupby([feature])[[weight, \"observed\", \"predicted\"]]\n",
                "        .sum()\n",
                "        .assign(observed=lambda x: x[\"observed\"] / x[weight])\n",
                "        .assign(predicted=lambda x: x[\"predicted\"] / x[weight])\n",
                "    )\n",
                "\n",
                "    ax = df_.loc[:, [\"observed\", \"predicted\"]].plot(style=\".\", ax=ax)\n",
                "    y_max = df_.loc[:, [\"observed\", \"predicted\"]].values.max() * 0.8\n",
                "    p2 = ax.fill_between(\n",
                "        df_.index,\n",
                "        0,\n",
                "        y_max * df_[weight] / df_[weight].values.max(),\n",
                "        color=\"g\",\n",
                "        alpha=0.1,\n",
                "    )\n",
                "    if fill_legend:\n",
                "        ax.legend([p2], [\"{} distribution\".format(feature)])\n",
                "    ax.set(\n",
                "        ylabel=y_label if y_label is not None else None,\n",
                "        title=title if title is not None else \"Train: Observed vs Predicted\",\n",
                "    )\n",
                "\n",
                "\n",
                "def score_estimator(\n",
                "    estimator,\n",
                "    X_train,\n",
                "    X_test,\n",
                "    df_train,\n",
                "    df_test,\n",
                "    target,\n",
                "    weights,\n",
                "    tweedie_powers=None,\n",
                "):\n",
                "    \"\"\"Evaluate an estimator on train and test sets with different metrics\"\"\"\n",
                "\n",
                "    metrics = [\n",
                "        (\"D² explained\", None),  # Use default scorer if it exists\n",
                "        (\"mean abs. error\", mean_absolute_error),\n",
                "        (\"mean squared error\", mean_squared_error),\n",
                "    ]\n",
                "    if tweedie_powers:\n",
                "        metrics += [\n",
                "            (\n",
                "                \"mean Tweedie dev p={:.4f}\".format(power),\n",
                "                partial(mean_tweedie_deviance, power=power),\n",
                "            )\n",
                "            for power in tweedie_powers\n",
                "        ]\n",
                "\n",
                "    res = []\n",
                "    for subset_label, X, df in [\n",
                "        (\"train\", X_train, df_train),\n",
                "        (\"test\", X_test, df_test),\n",
                "    ]:\n",
                "        y, _weights = df[target], df[weights]\n",
                "        for score_label, metric in metrics:\n",
                "            if isinstance(estimator, tuple) and len(estimator) == 2:\n",
                "                # Score the model consisting of the product of frequency and\n",
                "                # severity models.\n",
                "                est_freq, est_sev = estimator\n",
                "                y_pred = est_freq.predict(X) * est_sev.predict(X)\n",
                "            else:\n",
                "                y_pred = estimator.predict(X)\n",
                "\n",
                "            if metric is None:\n",
                "                if not hasattr(estimator, \"score\"):\n",
                "                    continue\n",
                "                score = estimator.score(X, y, sample_weight=_weights)\n",
                "            else:\n",
                "                score = metric(y, y_pred, sample_weight=_weights)\n",
                "\n",
                "            res.append({\"subset\": subset_label, \"metric\": score_label, \"score\": score})\n",
                "\n",
                "    res = (\n",
                "        pd.DataFrame(res)\n",
                "        .set_index([\"metric\", \"subset\"])\n",
                "        .score.unstack(-1)\n",
                "        .round(4)\n",
                "        .loc[:, [\"train\", \"test\"]]\n",
                "    )\n",
                "    return res"
            ]
        },
        {
            "cell_type": "code",
            "execution_count": 2,
            "id": "7e58adee",
            "metadata": {},
            "outputs": [
                {
                    "name": "stderr",
                    "output_type": "stream",
                    "text": [
                        "/home/zoupeicheng.zpc/miniconda3/envs/py38/lib/python3.8/site-packages/sklearn/datasets/_openml.py:1022: FutureWarning: The default value of `parser` will change from `'liac-arff'` to `'auto'` in 1.4. You can set `parser='auto'` to silence this warning. Therefore, an `ImportError` will be raised from 1.4 if the dataset is dense and pandas is not installed. Note that the pandas parser may return different data types. See the Notes Section in fetch_openml's API doc for details.\n",
                        "  warn(\n",
                        "/home/zoupeicheng.zpc/miniconda3/envs/py38/lib/python3.8/site-packages/sklearn/datasets/_openml.py:1022: FutureWarning: The default value of `parser` will change from `'liac-arff'` to `'auto'` in 1.4. You can set `parser='auto'` to silence this warning. Therefore, an `ImportError` will be raised from 1.4 if the dataset is dense and pandas is not installed. Note that the pandas parser may return different data types. See the Notes Section in fetch_openml's API doc for details.\n",
                        "  warn(\n"
                    ]
                },
                {
                    "name": "stdout",
                    "output_type": "stream",
                    "text": [
                        "       ClaimNb  Exposure Area  VehPower  VehAge  DrivAge  BonusMalus VehBrand  \\\n",
                        "IDpol                                                                           \n",
                        "139.0      1.0      0.75    F       7.0     1.0     61.0        50.0      B12   \n",
                        "190.0      1.0      0.14    B      12.0     5.0     50.0        60.0      B12   \n",
                        "414.0      1.0      0.14    E       4.0     0.0     36.0        85.0      B12   \n",
                        "424.0      2.0      0.62    F      10.0     0.0     51.0       100.0      B12   \n",
                        "463.0      1.0      0.31    A       5.0     0.0     45.0        50.0      B12   \n",
                        "\n",
                        "        VehGas  Density Region  ClaimAmount   PurePremium  Frequency  \\\n",
                        "IDpol                                                                  \n",
                        "139.0  Regular  27000.0    R11       303.00    404.000000   1.333333   \n",
                        "190.0   Diesel     56.0    R25      1981.84  14156.000000   7.142857   \n",
                        "414.0  Regular   4792.0    R11      1456.55  10403.928571   7.142857   \n",
                        "424.0  Regular  27000.0    R11     10834.00  17474.193548   3.225806   \n",
                        "463.0  Regular     12.0    R73      3986.67  12860.225806   3.225806   \n",
                        "\n",
                        "       AvgClaimAmount  \n",
                        "IDpol                  \n",
                        "139.0          303.00  \n",
                        "190.0         1981.84  \n",
                        "414.0         1456.55  \n",
                        "424.0         5417.00  \n",
                        "463.0         3986.67  \n"
                    ]
                }
            ],
            "source": [
                "from sklearn.compose import ColumnTransformer\n",
                "from sklearn.pipeline import make_pipeline\n",
                "from sklearn.preprocessing import (\n",
                "    FunctionTransformer,\n",
                "    KBinsDiscretizer,\n",
                "    OneHotEncoder,\n",
                "    StandardScaler,\n",
                ")\n",
                "\n",
                "df = load_mtpl2()\n",
                "\n",
                "# Note: filter out claims with zero amount, as the severity model\n",
                "# requires strictly positive target values.\n",
                "df.loc[(df[\"ClaimAmount\"] == 0) & (df[\"ClaimNb\"] >= 1), \"ClaimNb\"] = 0\n",
                "\n",
                "# Correct for unreasonable observations (that might be data error)\n",
                "# and a few exceptionally large claim amounts\n",
                "df[\"ClaimNb\"] = df[\"ClaimNb\"].clip(upper=4)\n",
                "df[\"Exposure\"] = df[\"Exposure\"].clip(upper=1)\n",
                "df[\"ClaimAmount\"] = df[\"ClaimAmount\"].clip(upper=200000)\n",
                "\n",
                "log_scale_transformer = make_pipeline(\n",
                "    FunctionTransformer(func=np.log), StandardScaler()\n",
                ")\n",
                "\n",
                "column_trans = ColumnTransformer(\n",
                "    [\n",
                "        (\n",
                "            \"binned_numeric\",\n",
                "            KBinsDiscretizer(n_bins=10, subsample=int(2e5), random_state=0),\n",
                "            [\"VehAge\", \"DrivAge\"],\n",
                "        ),\n",
                "        (\n",
                "            \"onehot_categorical\",\n",
                "            OneHotEncoder(),\n",
                "            [\"VehBrand\", \"VehPower\", \"VehGas\", \"Region\", \"Area\"],\n",
                "        ),\n",
                "        (\"passthrough_numeric\", \"passthrough\", [\"BonusMalus\"]),\n",
                "        (\"log_scaled_numeric\", log_scale_transformer, [\"Density\"]),\n",
                "    ],\n",
                "    remainder=\"drop\",\n",
                ")\n",
                "X = column_trans.fit_transform(df)\n",
                "\n",
                "# Insurances companies are interested in modeling the Pure Premium, that is\n",
                "# the expected total claim amount per unit of exposure for each policyholder\n",
                "# in their portfolio:\n",
                "df[\"PurePremium\"] = df[\"ClaimAmount\"] / df[\"Exposure\"]\n",
                "\n",
                "# This can be indirectly approximated by a 2-step modeling: the product of the\n",
                "# Frequency times the average claim amount per claim:\n",
                "df[\"Frequency\"] = df[\"ClaimNb\"] / df[\"Exposure\"]\n",
                "df[\"AvgClaimAmount\"] = df[\"ClaimAmount\"] / np.fmax(df[\"ClaimNb\"], 1)\n",
                "\n",
                "with pd.option_context(\"display.max_columns\", 15):\n",
                "    print(df[df.ClaimAmount > 0].head())"
            ]
        },
        {
            "cell_type": "code",
            "execution_count": 3,
            "id": "8d570ce5",
            "metadata": {},
            "outputs": [],
            "source": [
                "from sklearn.model_selection import train_test_split\n",
                "\n",
                "df_train, df_test, X_train, X_test = train_test_split(df, X, random_state=0)"
            ]
        },
        {
            "attachments": {},
            "cell_type": "markdown",
            "id": "fb400b1f-f516-4348-8812-e05a2e8f5e17",
            "metadata": {
                "tags": []
            },
            "source": [
                "### Fit the GLM model (tweedie)\n"
            ]
        },
        {
            "cell_type": "code",
            "execution_count": 4,
            "id": "0ffb9d32-4150-41cb-a6e9-65cbccf6568a",
            "metadata": {},
            "outputs": [
                {
                    "name": "stdout",
                    "output_type": "stream",
                    "text": [
                        "Evaluation of the Product Model and the Tweedie Regressor on target PurePremium\n",
                        "                                      T              \n",
                        "subset                            train          test\n",
                        "metric                                               \n",
                        "D² explained               1.690000e-02  1.420000e-02\n",
                        "mean Tweedie dev p=1.5000  7.640770e+01  7.640880e+01\n",
                        "mean Tweedie dev p=1.7000  3.682880e+01  3.692270e+01\n",
                        "mean Tweedie dev p=1.8000  3.037600e+01  3.045390e+01\n",
                        "mean Tweedie dev p=1.9000  3.382120e+01  3.387830e+01\n",
                        "mean Tweedie dev p=1.9900  2.015347e+02  2.015587e+02\n",
                        "mean Tweedie dev p=1.9990  1.914538e+03  1.914387e+03\n",
                        "mean Tweedie dev p=1.9999  1.904747e+04  1.904558e+04\n",
                        "mean abs. error            2.739865e+02  2.731249e+02\n",
                        "mean squared error         3.295505e+07  3.213056e+07\n"
                    ]
                }
            ],
            "source": [
                "from sklearn.linear_model import TweedieRegressor\n",
                "\n",
                "glm_pure_premium = TweedieRegressor(power=1.9, alpha=0.1, solver='newton-cholesky')\n",
                "glm_pure_premium.fit(\n",
                "    X_train, df_train[\"PurePremium\"], sample_weight=df_train[\"Exposure\"]\n",
                ")\n",
                "\n",
                "tweedie_powers = [1.5, 1.7, 1.8, 1.9, 1.99, 1.999, 1.9999]\n",
                "\n",
                "scores_glm_pure_premium = score_estimator(\n",
                "    glm_pure_premium,\n",
                "    X_train,\n",
                "    X_test,\n",
                "    df_train,\n",
                "    df_test,\n",
                "    target=\"PurePremium\",\n",
                "    weights=\"Exposure\",\n",
                "    tweedie_powers=tweedie_powers,\n",
                ")\n",
                "\n",
                "scores = pd.concat(\n",
                "    [scores_glm_pure_premium],\n",
                "    axis=1,\n",
                "    sort=True,\n",
                "    keys=(\"TweedieRegressor\"),\n",
                ")\n",
                "print(\"Evaluation of the Product Model and the Tweedie Regressor on target PurePremium\")\n",
                "with pd.option_context(\"display.expand_frame_repr\", False):\n",
                "    print(scores)"
            ]
        },
        {
            "cell_type": "code",
            "execution_count": 5,
            "id": "2cd54470",
            "metadata": {},
            "outputs": [],
            "source": [
                "n_iter = glm_pure_premium.n_iter_"
            ]
        },
        {
            "cell_type": "markdown",
            "id": "d809add7",
            "metadata": {},
            "source": [
                "### Fit the SS GLM model (tweedie)\n"
            ]
        },
        {
            "cell_type": "code",
            "execution_count": 6,
            "id": "c0f1fe19",
            "metadata": {},
            "outputs": [
                {
                    "name": "stdout",
                    "output_type": "stream",
                    "text": [
                        "The version of SecretFlow: 1.4.0.dev20240110\n"
                    ]
                },
                {
                    "name": "stderr",
                    "output_type": "stream",
                    "text": [
                        "2024-01-10 15:27:17,631\tINFO worker.py:1538 -- Started a local Ray instance.\n"
                    ]
                }
            ],
            "source": [
                "import secretflow as sf\n",
                "\n",
                "# Check the version of your SecretFlow\n",
                "print('The version of SecretFlow: {}'.format(sf.__version__))\n",
                "\n",
                "# In case you have a running secretflow runtime already.\n",
                "sf.shutdown()\n",
                "\n",
                "sf.init(['alice', 'bob'], address='local')\n",
                "\n",
                "alice, bob = sf.PYU('alice'), sf.PYU('bob')\n",
                "spu = sf.SPU(\n",
                "    sf.utils.testing.cluster_def(\n",
                "        ['alice', 'bob'],\n",
                "        {\"protocol\": \"REF2K\", \"field\": \"FM128\", \"fxp_fraction_bits\": 40},\n",
                "    ),\n",
                ")"
            ]
        },
        {
            "cell_type": "code",
            "execution_count": 7,
            "id": "dee30156",
            "metadata": {},
            "outputs": [],
            "source": [
                "from secretflow.data import FedNdarray, PartitionWay\n",
                "\n",
                "x, y = X_train, df_train[\"PurePremium\"]\n",
                "w = df_train[\"Exposure\"]\n",
                "\n",
                "\n",
                "def x_to_vdata(x):\n",
                "    x = x.todense()\n",
                "    v_data = FedNdarray(\n",
                "        partitions={\n",
                "            alice: alice(lambda: x[:, :15])(),\n",
                "            bob: bob(lambda: x[:, 15:])(),\n",
                "        },\n",
                "        partition_way=PartitionWay.VERTICAL,\n",
                "    )\n",
                "    return v_data\n",
                "\n",
                "\n",
                "v_data = x_to_vdata(x)\n",
                "\n",
                "label_data = FedNdarray(\n",
                "    partitions={alice: alice(lambda: y.values)()},\n",
                "    partition_way=PartitionWay.VERTICAL,\n",
                ")\n",
                "\n",
                "sample_weight = FedNdarray(\n",
                "    partitions={alice: alice(lambda: w.values)()},\n",
                "    partition_way=PartitionWay.VERTICAL,\n",
                ")"
            ]
        },
        {
            "cell_type": "code",
            "execution_count": null,
            "id": "887d5789",
            "metadata": {},
            "outputs": [],
            "source": []
        },
        {
            "cell_type": "code",
            "execution_count": 8,
            "id": "b6b341f8",
            "metadata": {},
            "outputs": [],
            "source": [
                "from secretflow.device.driver import reveal\n",
                "from secretflow.ml.linear.ss_glm.core import get_dist\n",
                "\n",
                "dist = 'Tweedie'\n",
                "ss_glm_power = 1.9\n",
                "\n",
                "\n",
                "class DirectRevealModel:\n",
                "    def __init__(self, model) -> None:\n",
                "        self.model = model\n",
                "\n",
                "    def predict(self, X):\n",
                "        vdata = x_to_vdata(X)\n",
                "        y = self.model.predict(vdata)\n",
                "        return reveal(y).reshape((-1,))\n",
                "\n",
                "    def score(self, X, y, sample_weight=None):\n",
                "        y = y.values\n",
                "        y_pred = self.predict(X)\n",
                "\n",
                "        constant = np.mean(y)\n",
                "        if sample_weight is not None:\n",
                "            constant *= sample_weight.shape[0] / np.sum(sample_weight)\n",
                "\n",
                "        # Missing factor of 2 in deviance cancels out.\n",
                "        deviance = get_dist(dist, 1, ss_glm_power).deviance(y_pred, y, None)\n",
                "        deviance_null = get_dist(dist, 1, ss_glm_power).deviance(\n",
                "            np.average(y, weights=sample_weight) + np.zeros(y.shape), y, None\n",
                "        )\n",
                "        return 1 - (deviance + constant) / (deviance_null + constant)"
            ]
        },
        {
            "cell_type": "code",
            "execution_count": 9,
            "id": "2352f9b6",
            "metadata": {},
            "outputs": [
                {
                    "name": "stdout",
                    "output_type": "stream",
                    "text": [
                        "\u001b[2m\u001b[36m(_run pid=270144)\u001b[0m [2024-01-10 15:27:23.708] [info] [thread_pool.cc:30] Create a fixed thread pool with size 63\n"
                    ]
                },
                {
                    "name": "stderr",
                    "output_type": "stream",
                    "text": [
                        "\u001b[2m\u001b[36m(_run pid=270144)\u001b[0m INFO:jax._src.xla_bridge:Unable to initialize backend 'cuda': module 'jaxlib.xla_extension' has no attribute 'GpuAllocatorConfig'\n",
                        "\u001b[2m\u001b[36m(_run pid=270144)\u001b[0m INFO:jax._src.xla_bridge:Unable to initialize backend 'rocm': module 'jaxlib.xla_extension' has no attribute 'GpuAllocatorConfig'\n",
                        "\u001b[2m\u001b[36m(_run pid=270144)\u001b[0m INFO:jax._src.xla_bridge:Unable to initialize backend 'tpu': INVALID_ARGUMENT: TpuPlatform is not available.\n",
                        "\u001b[2m\u001b[36m(_run pid=270144)\u001b[0m INFO:jax._src.xla_bridge:Unable to initialize backend 'plugin': xla_extension has no attributes named get_plugin_device_client. Compile TensorFlow with //tensorflow/compiler/xla/python:enable_plugin_device set to true (defaults to false) to enable this.\n",
                        "\u001b[2m\u001b[36m(_run pid=270144)\u001b[0m WARNING:jax._src.xla_bridge:No GPU/TPU found, falling back to CPU. (Set TF_CPP_MIN_LOG_LEVEL=0 and rerun for more info.)\n"
                    ]
                },
                {
                    "name": "stdout",
                    "output_type": "stream",
                    "text": [
                        "\u001b[2m\u001b[36m(_run pid=271577)\u001b[0m [2024-01-10 15:27:27.125] [info] [thread_pool.cc:30] Create a fixed thread pool with size 63\n"
                    ]
                },
                {
                    "name": "stderr",
                    "output_type": "stream",
                    "text": [
                        "\u001b[2m\u001b[36m(_run pid=271577)\u001b[0m INFO:jax._src.xla_bridge:Unable to initialize backend 'cuda': module 'jaxlib.xla_extension' has no attribute 'GpuAllocatorConfig'\n",
                        "\u001b[2m\u001b[36m(_run pid=271577)\u001b[0m INFO:jax._src.xla_bridge:Unable to initialize backend 'rocm': module 'jaxlib.xla_extension' has no attribute 'GpuAllocatorConfig'\n",
                        "\u001b[2m\u001b[36m(_run pid=271577)\u001b[0m INFO:jax._src.xla_bridge:Unable to initialize backend 'tpu': INVALID_ARGUMENT: TpuPlatform is not available.\n",
                        "\u001b[2m\u001b[36m(_run pid=271577)\u001b[0m INFO:jax._src.xla_bridge:Unable to initialize backend 'plugin': xla_extension has no attributes named get_plugin_device_client. Compile TensorFlow with //tensorflow/compiler/xla/python:enable_plugin_device set to true (defaults to false) to enable this.\n",
                        "\u001b[2m\u001b[36m(_run pid=271577)\u001b[0m WARNING:jax._src.xla_bridge:No GPU/TPU found, falling back to CPU. (Set TF_CPP_MIN_LOG_LEVEL=0 and rerun for more info.)\n",
                        "\u001b[2m\u001b[36m(_run pid=270141)\u001b[0m INFO:jax._src.xla_bridge:Unable to initialize backend 'cuda': module 'jaxlib.xla_extension' has no attribute 'GpuAllocatorConfig'\n",
                        "\u001b[2m\u001b[36m(_run pid=270141)\u001b[0m INFO:jax._src.xla_bridge:Unable to initialize backend 'rocm': module 'jaxlib.xla_extension' has no attribute 'GpuAllocatorConfig'\n",
                        "\u001b[2m\u001b[36m(_run pid=270141)\u001b[0m INFO:jax._src.xla_bridge:Unable to initialize backend 'tpu': INVALID_ARGUMENT: TpuPlatform is not available.\n",
                        "\u001b[2m\u001b[36m(_run pid=270141)\u001b[0m INFO:jax._src.xla_bridge:Unable to initialize backend 'plugin': xla_extension has no attributes named get_plugin_device_client. Compile TensorFlow with //tensorflow/compiler/xla/python:enable_plugin_device set to true (defaults to false) to enable this.\n",
                        "\u001b[2m\u001b[36m(_run pid=270141)\u001b[0m WARNING:jax._src.xla_bridge:No GPU/TPU found, falling back to CPU. (Set TF_CPP_MIN_LOG_LEVEL=0 and rerun for more info.)\n",
                        "INFO:root:irls calculating partials...\n"
                    ]
                },
                {
                    "name": "stdout",
                    "output_type": "stream",
                    "text": [
                        "\u001b[2m\u001b[36m(_run pid=270141)\u001b[0m [2024-01-10 15:27:28.531] [info] [thread_pool.cc:30] Create a fixed thread pool with size 63\n",
                        "\u001b[2m\u001b[36m(SPURuntime(device_id=None, party=alice) pid=275972)\u001b[0m 2024-01-10 15:27:28.919 [info] [thread_pool.cc:ThreadPool:30] Create a fixed thread pool with size 63\n",
                        "\u001b[2m\u001b[36m(SPURuntime(device_id=None, party=bob) pid=275973)\u001b[0m 2024-01-10 15:27:28.920 [info] [thread_pool.cc:ThreadPool:30] Create a fixed thread pool with size 63\n"
                    ]
                },
                {
                    "name": "stderr",
                    "output_type": "stream",
                    "text": [
                        "INFO:root:irls calculating partials...\n",
                        "INFO:root:irls calculating partials...\n",
                        "INFO:root:irls calculating partials...\n",
                        "INFO:root:irls updating weights...\n",
                        "INFO:root:epoch 1 train times: 12.470445156097412s\n",
                        "INFO:jax._src.xla_bridge:Unable to initialize backend 'cuda': module 'jaxlib.xla_extension' has no attribute 'GpuAllocatorConfig'\n",
                        "INFO:jax._src.xla_bridge:Unable to initialize backend 'rocm': module 'jaxlib.xla_extension' has no attribute 'GpuAllocatorConfig'\n",
                        "INFO:jax._src.xla_bridge:Unable to initialize backend 'tpu': INVALID_ARGUMENT: TpuPlatform is not available.\n",
                        "INFO:jax._src.xla_bridge:Unable to initialize backend 'plugin': xla_extension has no attributes named get_plugin_device_client. Compile TensorFlow with //tensorflow/compiler/xla/python:enable_plugin_device set to true (defaults to false) to enable this.\n",
                        "WARNING:jax._src.xla_bridge:No GPU/TPU found, falling back to CPU. (Set TF_CPP_MIN_LOG_LEVEL=0 and rerun for more info.)\n",
                        "INFO:root:epoch 1 validation times: 2.3529574871063232s\n",
                        "INFO:root:irls calculating partials...\n",
                        "INFO:root:irls calculating partials...\n",
                        "INFO:root:irls calculating partials...\n",
                        "INFO:root:irls calculating partials...\n",
                        "INFO:root:irls updating weights...\n",
                        "INFO:root:epoch 2 train times: 2.752856492996216s\n",
                        "INFO:root:epoch 2 validation times: 0.787750244140625s\n",
                        "INFO:root:irls calculating partials...\n",
                        "INFO:root:irls calculating partials...\n",
                        "INFO:root:irls calculating partials...\n",
                        "INFO:root:irls calculating partials...\n",
                        "INFO:root:irls updating weights...\n",
                        "INFO:root:epoch 3 train times: 2.606294870376587s\n",
                        "INFO:root:epoch 3 validation times: 0.831484317779541s\n",
                        "INFO:root:irls calculating partials...\n",
                        "INFO:root:irls calculating partials...\n",
                        "INFO:root:irls calculating partials...\n",
                        "INFO:root:irls calculating partials...\n",
                        "INFO:root:irls updating weights...\n",
                        "INFO:root:epoch 4 train times: 2.464616298675537s\n",
                        "INFO:root:epoch 4 validation times: 0.7912900447845459s\n",
                        "\u001b[2m\u001b[36m(raylet)\u001b[0m Spilled 2358 MiB, 24 objects, write throughput 473 MiB/s. Set RAY_verbose_spill_logs=0 to disable this message.\n",
                        "\u001b[2m\u001b[36m(raylet)\u001b[0m Spilled 4453 MiB, 50 objects, write throughput 518 MiB/s.\n",
                        "\u001b[2m\u001b[36m(raylet)\u001b[0m Spilled 24573 MiB, 263 objects, write throughput 1993 MiB/s.\n",
                        "\u001b[2m\u001b[36m(raylet)\u001b[0m Spilled 24705 MiB, 266 objects, write throughput 1963 MiB/s.\n",
                        "\u001b[2m\u001b[36m(raylet)\u001b[0m Spilled 33043 MiB, 434 objects, write throughput 1230 MiB/s.\n"
                    ]
                },
                {
                    "name": "stdout",
                    "output_type": "stream",
                    "text": [
                        "Evaluation of the Tweedie Regressor and SS GLM on target PurePremium\n",
                        "                          TweedieRegressor                 SSGLMRegressor                 \n",
                        "subset                               train          test            train             test\n",
                        "metric                                                                                    \n",
                        "D² explained                  1.690000e-02  1.420000e-02      0.024483383      0.037959278\n",
                        "mean Tweedie dev p=1.5000     7.640770e+01  7.640880e+01        76.690525        77.220124\n",
                        "mean Tweedie dev p=1.7000     3.682880e+01  3.692270e+01        36.858134        37.149438\n",
                        "mean Tweedie dev p=1.8000     3.037600e+01  3.045390e+01        30.377364        30.576274\n",
                        "mean Tweedie dev p=1.9000     3.382120e+01  3.387830e+01          33.8137        33.945158\n",
                        "mean Tweedie dev p=1.9900     2.015347e+02  2.015587e+02       201.525844       201.597892\n",
                        "mean Tweedie dev p=1.9990     1.914538e+03  1.914387e+03      1914.529024      1914.423805\n",
                        "mean Tweedie dev p=1.9999     1.904747e+04  1.904558e+04     19047.461972     19045.618199\n",
                        "mean abs. error               2.739865e+02  2.731249e+02       299.573749        301.35045\n",
                        "mean squared error            3.295505e+07  3.213056e+07  33097404.185918  33385668.389111\n"
                    ]
                }
            ],
            "source": [
                "import time\n",
                "from secretflow.ml.linear.ss_glm import SSGLM\n",
                "\n",
                "model = SSGLM(spu)\n",
                "\n",
                "ss_glm_power = 1.9\n",
                "start = time.time()\n",
                "model.fit_irls(\n",
                "    v_data,\n",
                "    label_data,\n",
                "    None,\n",
                "    sample_weight,\n",
                "    n_iter,\n",
                "    'Log',\n",
                "    'Tweedie',\n",
                "    ss_glm_power,\n",
                "    l2_lambda=0.1,\n",
                "    infeed_batch_size_limit=10000000,\n",
                "    fraction_of_validation_set=0.2,\n",
                "    stopping_rounds=2,\n",
                "    stopping_metric='deviance',\n",
                "    stopping_tolerance=0.001,\n",
                ")\n",
                "\n",
                "wrapped_model = DirectRevealModel(model)\n",
                "\n",
                "tweedie_powers = [1.5, 1.7, 1.8, 1.9, 1.99, 1.999, 1.9999]\n",
                "\n",
                "scores_ss_glm_pure_premium = score_estimator(\n",
                "    wrapped_model,\n",
                "    X_train,\n",
                "    X_test,\n",
                "    df_train,\n",
                "    df_test,\n",
                "    target=\"PurePremium\",\n",
                "    weights=\"Exposure\",\n",
                "    tweedie_powers=tweedie_powers,\n",
                ")\n",
                "\n",
                "scores = pd.concat(\n",
                "    [scores_glm_pure_premium, scores_ss_glm_pure_premium],\n",
                "    axis=1,\n",
                "    sort=True,\n",
                "    keys=(\"TweedieRegressor\", \"SSGLMRegressor\"),\n",
                ")\n",
                "print(\"Evaluation of the Tweedie Regressor and SS GLM on target PurePremium\")\n",
                "with pd.option_context(\"display.expand_frame_repr\", False):\n",
                "    print(scores)"
            ]
        },
        {
            "cell_type": "code",
            "execution_count": 10,
            "id": "75a5c31d",
            "metadata": {},
            "outputs": [
                {
                    "name": "stdout",
                    "output_type": "stream",
                    "text": [
                        "subset                                 train          test\n",
                        "observed                        3.917618e+07  1.299546e+07\n",
                        "predicted, tweedie, power=1.90  3.951751e+07  1.325198e+07\n",
                        "predicted, ss glm, power=1.90   4.773088e+07  1.623539e+07\n"
                    ]
                }
            ],
            "source": [
                "res = []\n",
                "for subset_label, x, df in [\n",
                "    (\"train\", X_train, df_train),\n",
                "    (\"test\", X_test, df_test),\n",
                "]:\n",
                "    exposure = df[\"Exposure\"].values\n",
                "    res.append(\n",
                "        {\n",
                "            \"subset\": subset_label,\n",
                "            \"observed\": df[\"ClaimAmount\"].values.sum(),\n",
                "            \"predicted, tweedie, power=%.2f\"\n",
                "            % glm_pure_premium.power: np.sum(exposure * glm_pure_premium.predict(x)),\n",
                "            \"predicted, ss glm, power=%.2f\"\n",
                "            % ss_glm_power: np.sum(exposure * wrapped_model.predict(x)),\n",
                "        }\n",
                "    )\n",
                "\n",
                "print(pd.DataFrame(res).set_index(\"subset\").T)"
            ]
        },
        {
            "cell_type": "code",
            "execution_count": 11,
            "id": "3b459553",
            "metadata": {},
            "outputs": [
                {
                    "data": {
                        "text/plain": [
                            "[]"
                        ]
                    },
                    "execution_count": 11,
                    "metadata": {},
                    "output_type": "execute_result"
                },
                {
                    "data": {
                        "image/png": "[encoded data removed]",
                        "text/plain": [
                            "<Figure size 576x576 with 1 Axes>"
                        ]
                    },
                    "metadata": {
                        "needs_background": "light"
                    },
                    "output_type": "display_data"
                },
                {
                    "name": "stderr",
                    "output_type": "stream",
                    "text": [
                        "2024-01-10 15:50:59,902\tWARNING worker.py:1851 -- The autoscaler failed with the following error:\n",
                        "Terminated with signal 15\n",
                        "  File \"/home/zoupeicheng.zpc/miniconda3/envs/py38/lib/python3.8/site-packages/ray/autoscaler/_private/monitor.py\", line 626, in <module>\n",
                        "    monitor.run()\n",
                        "  File \"/home/zoupeicheng.zpc/miniconda3/envs/py38/lib/python3.8/site-packages/ray/autoscaler/_private/monitor.py\", line 502, in run\n",
                        "    self._run()\n",
                        "  File \"/home/zoupeicheng.zpc/miniconda3/envs/py38/lib/python3.8/site-packages/ray/autoscaler/_private/monitor.py\", line 406, in _run\n",
                        "    time.sleep(AUTOSCALER_UPDATE_INTERVAL_S)\n",
                        "\n"
                    ]
                }
            ],
            "source": [
                "from sklearn.metrics import auc\n",
                "\n",
                "\n",
                "def lorenz_curve(y_true, y_pred, exposure):\n",
                "    y_true, y_pred = np.asarray(y_true), np.asarray(y_pred)\n",
                "    exposure = np.asarray(exposure)\n",
                "\n",
                "    # order samples by increasing predicted risk:\n",
                "    ranking = np.argsort(y_pred)\n",
                "    ranked_exposure = exposure[ranking]\n",
                "    ranked_pure_premium = y_true[ranking]\n",
                "    cumulated_claim_amount = np.cumsum(ranked_pure_premium * ranked_exposure)\n",
                "    cumulated_claim_amount /= cumulated_claim_amount[-1]\n",
                "    cumulated_samples = np.linspace(0, 1, len(cumulated_claim_amount))\n",
                "    return cumulated_samples, cumulated_claim_amount\n",
                "\n",
                "\n",
                "fig, ax = plt.subplots(figsize=(8, 8))\n",
                "\n",
                "y_pred_total_ss_glm = wrapped_model.predict(X_test).reshape((-1,))\n",
                "y_pred_total = glm_pure_premium.predict(X_test)\n",
                "\n",
                "for label, y_pred in [\n",
                "    (\"Compound Poisson Gamma\", y_pred_total),\n",
                "    (\"Compound Poisson Gamma SS GLM\", y_pred_total_ss_glm),\n",
                "]:\n",
                "    ordered_samples, cum_claims = lorenz_curve(\n",
                "        df_test[\"PurePremium\"], y_pred, df_test[\"Exposure\"]\n",
                "    )\n",
                "    gini = 1 - 2 * auc(ordered_samples, cum_claims)\n",
                "    label += \" (Gini index: {:.3f})\".format(gini)\n",
                "    ax.plot(ordered_samples, cum_claims, linestyle=\"-\", label=label)\n",
                "\n",
                "# Oracle model: y_pred == y_test\n",
                "ordered_samples, cum_claims = lorenz_curve(\n",
                "    df_test[\"PurePremium\"], df_test[\"PurePremium\"], df_test[\"Exposure\"]\n",
                ")\n",
                "gini = 1 - 2 * auc(ordered_samples, cum_claims)\n",
                "label = \"Oracle (Gini index: {:.3f})\".format(gini)\n",
                "ax.plot(ordered_samples, cum_claims, linestyle=\"-.\", color=\"gray\", label=label)\n",
                "\n",
                "# Random baseline\n",
                "ax.plot([0, 1], [0, 1], linestyle=\"--\", color=\"black\", label=\"Random baseline\")\n",
                "ax.set(\n",
                "    title=\"Lorenz Curves\",\n",
                "    xlabel=\"Fraction of policyholders\\n(ordered by model from safest to riskiest)\",\n",
                "    ylabel=\"Fraction of total claim amount\",\n",
                ")\n",
                "ax.legend(loc=\"upper left\")\n",
                "plt.plot()"
            ]
        },
        {
            "cell_type": "code",
            "execution_count": null,
            "id": "98f6c012",
            "metadata": {},
            "outputs": [],
            "source": []
        },
        {
            "cell_type": "code",
            "execution_count": null,
            "id": "3675bbc9",
            "metadata": {},
            "outputs": [],
            "source": []
        }
    ],
    "metadata": {
        "kernelspec": {
            "display_name": "Python 3 (ipykernel)",
            "language": "python",
            "name": "python3"
        },
        "language_info": {
            "codemirror_mode": {
                "name": "ipython",
                "version": 3
            },
            "file_extension": ".py",
            "mimetype": "text/x-python",
            "name": "python",
            "nbconvert_exporter": "python",
            "pygments_lexer": "ipython3",
            "version": "3.8.17"
        },
        "vscode": {
            "interpreter": {
                "hash": "de4c945f5346493decaa0ea82289843a7da2415616b96b9f4b104111cc0c19ad"
            }
        }
    },
    "nbformat": 4,
    "nbformat_minor": 5
}